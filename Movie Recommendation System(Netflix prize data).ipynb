{
 "cells": [
  {
   "cell_type": "markdown",
   "metadata": {},
   "source": [
    "# MOVIE RECOMMENDATION SYSTEM\n",
    "Here we are going to use Netflix prize data for building a movie recommendation system."
   ]
  },
  {
   "cell_type": "markdown",
   "metadata": {},
   "source": [
    "* I am going to build a movie recommendation system using collaborative filtering technique. There are many methods in collaborative filtering, here I am using Model based method using singular value decomposition.\n",
    "* Netflix prize data set is used for building this.\n"
   ]
  },
  {
   "cell_type": "code",
   "execution_count": 1,
   "metadata": {},
   "outputs": [],
   "source": [
    "import pandas as pd\n",
    "import numpy as np\n",
    "import matplotlib.pyplot as plt\n",
    "%matplotlib inline\n",
    "import seaborn as sns\n",
    "from surprise import Reader, Dataset, SVD"
   ]
  },
  {
   "cell_type": "code",
   "execution_count": 8,
   "metadata": {},
   "outputs": [],
   "source": [
    "def loadFile(file,r=10000000):\n",
    "    c=0\n",
    "    movId,custId,rating,date=[],[],[],[]\n",
    "    fp=open(file,'r')\n",
    "    lines=fp.read()\n",
    "    lst=lines.splitlines()\n",
    "    for line in lst:\n",
    "        c+=1\n",
    "        if ':' in line:\n",
    "            l=line.split(':')\n",
    "            movid=int(l[0])\n",
    "        else:\n",
    "            l=line.split(',')\n",
    "            movId.append(movid)\n",
    "            custId.append(int(l[0]))\n",
    "            rating.append(int(l[1]))\n",
    "            date.append(l[2])\n",
    "        if c==r:\n",
    "            break\n",
    "    d={'movId':movId,'custId':custId,'rating':rating,'date':date}\n",
    "    fp.close()\n",
    "    return d"
   ]
  },
  {
   "cell_type": "code",
   "execution_count": 9,
   "metadata": {},
   "outputs": [],
   "source": [
    "df=[]\n",
    "for file in ['combined_data_1.txt','combined_data_2.txt',\n",
    "             'combined_data_3.txt','combined_data_3.txt','combined_data_4.txt']:\n",
    "    df.append(loadFile(file))"
   ]
  },
  {
   "cell_type": "code",
   "execution_count": 10,
   "metadata": {},
   "outputs": [],
   "source": [
    "df1=pd.DataFrame(df[0])\n",
    "df2=pd.DataFrame(df[1])\n",
    "df3=pd.DataFrame(df[2])\n",
    "df4=pd.DataFrame(df[3])\n"
   ]
  },
  {
   "cell_type": "code",
   "execution_count": 11,
   "metadata": {},
   "outputs": [
    {
     "data": {
      "text/plain": [
       "(1962, 1635, 1942, 1942)"
      ]
     },
     "execution_count": 11,
     "metadata": {},
     "output_type": "execute_result"
    }
   ],
   "source": [
    "df1.movId.nunique(),df2.movId.nunique(),df3.movId.nunique(),df4.movId.nunique()"
   ]
  },
  {
   "cell_type": "code",
   "execution_count": 12,
   "metadata": {},
   "outputs": [
    {
     "data": {
      "text/plain": [
       "(7481, 1824304)"
      ]
     },
     "execution_count": 12,
     "metadata": {},
     "output_type": "execute_result"
    }
   ],
   "source": [
    "tot_mov,tot_cust=0,0\n",
    "for dfr in [df1,df2,df3,df4]:\n",
    "    nmov=dfr['movId'].nunique()\n",
    "    ncust=dfr['custId'].nunique()\n",
    "    tot_mov+=nmov\n",
    "    tot_cust+=ncust\n",
    "tot_mov,tot_cust"
   ]
  },
  {
   "cell_type": "code",
   "execution_count": 13,
   "metadata": {},
   "outputs": [
    {
     "data": {
      "text/plain": [
       "(9998038, 4)"
      ]
     },
     "execution_count": 13,
     "metadata": {},
     "output_type": "execute_result"
    }
   ],
   "source": [
    "df1.shape"
   ]
  },
  {
   "cell_type": "code",
   "execution_count": 14,
   "metadata": {},
   "outputs": [
    {
     "data": {
      "text/plain": [
       "(9998365, 4)"
      ]
     },
     "execution_count": 14,
     "metadata": {},
     "output_type": "execute_result"
    }
   ],
   "source": [
    "df2.shape"
   ]
  },
  {
   "cell_type": "code",
   "execution_count": 15,
   "metadata": {},
   "outputs": [
    {
     "data": {
      "text/html": [
       "<div>\n",
       "<style scoped>\n",
       "    .dataframe tbody tr th:only-of-type {\n",
       "        vertical-align: middle;\n",
       "    }\n",
       "\n",
       "    .dataframe tbody tr th {\n",
       "        vertical-align: top;\n",
       "    }\n",
       "\n",
       "    .dataframe thead th {\n",
       "        text-align: right;\n",
       "    }\n",
       "</style>\n",
       "<table border=\"1\" class=\"dataframe\">\n",
       "  <thead>\n",
       "    <tr style=\"text-align: right;\">\n",
       "      <th></th>\n",
       "      <th>movId</th>\n",
       "      <th>custId</th>\n",
       "      <th>rating</th>\n",
       "      <th>date</th>\n",
       "    </tr>\n",
       "  </thead>\n",
       "  <tbody>\n",
       "    <tr>\n",
       "      <th>0</th>\n",
       "      <td>1</td>\n",
       "      <td>1488844</td>\n",
       "      <td>3</td>\n",
       "      <td>2005-09-06</td>\n",
       "    </tr>\n",
       "    <tr>\n",
       "      <th>1</th>\n",
       "      <td>1</td>\n",
       "      <td>822109</td>\n",
       "      <td>5</td>\n",
       "      <td>2005-05-13</td>\n",
       "    </tr>\n",
       "    <tr>\n",
       "      <th>2</th>\n",
       "      <td>1</td>\n",
       "      <td>885013</td>\n",
       "      <td>4</td>\n",
       "      <td>2005-10-19</td>\n",
       "    </tr>\n",
       "    <tr>\n",
       "      <th>3</th>\n",
       "      <td>1</td>\n",
       "      <td>30878</td>\n",
       "      <td>4</td>\n",
       "      <td>2005-12-26</td>\n",
       "    </tr>\n",
       "    <tr>\n",
       "      <th>4</th>\n",
       "      <td>1</td>\n",
       "      <td>823519</td>\n",
       "      <td>3</td>\n",
       "      <td>2004-05-03</td>\n",
       "    </tr>\n",
       "  </tbody>\n",
       "</table>\n",
       "</div>"
      ],
      "text/plain": [
       "   movId   custId  rating        date\n",
       "0      1  1488844       3  2005-09-06\n",
       "1      1   822109       5  2005-05-13\n",
       "2      1   885013       4  2005-10-19\n",
       "3      1    30878       4  2005-12-26\n",
       "4      1   823519       3  2004-05-03"
      ]
     },
     "execution_count": 15,
     "metadata": {},
     "output_type": "execute_result"
    }
   ],
   "source": [
    "df1.head()"
   ]
  },
  {
   "cell_type": "code",
   "execution_count": 16,
   "metadata": {},
   "outputs": [
    {
     "data": {
      "text/html": [
       "<div>\n",
       "<style scoped>\n",
       "    .dataframe tbody tr th:only-of-type {\n",
       "        vertical-align: middle;\n",
       "    }\n",
       "\n",
       "    .dataframe tbody tr th {\n",
       "        vertical-align: top;\n",
       "    }\n",
       "\n",
       "    .dataframe thead th {\n",
       "        text-align: right;\n",
       "    }\n",
       "</style>\n",
       "<table border=\"1\" class=\"dataframe\">\n",
       "  <thead>\n",
       "    <tr style=\"text-align: right;\">\n",
       "      <th></th>\n",
       "      <th>movId</th>\n",
       "      <th>custId</th>\n",
       "      <th>rating</th>\n",
       "      <th>date</th>\n",
       "    </tr>\n",
       "  </thead>\n",
       "  <tbody>\n",
       "    <tr>\n",
       "      <th>0</th>\n",
       "      <td>1</td>\n",
       "      <td>1488844</td>\n",
       "      <td>3</td>\n",
       "      <td>2005-09-06</td>\n",
       "    </tr>\n",
       "    <tr>\n",
       "      <th>1</th>\n",
       "      <td>1</td>\n",
       "      <td>822109</td>\n",
       "      <td>5</td>\n",
       "      <td>2005-05-13</td>\n",
       "    </tr>\n",
       "    <tr>\n",
       "      <th>2</th>\n",
       "      <td>1</td>\n",
       "      <td>885013</td>\n",
       "      <td>4</td>\n",
       "      <td>2005-10-19</td>\n",
       "    </tr>\n",
       "    <tr>\n",
       "      <th>3</th>\n",
       "      <td>1</td>\n",
       "      <td>30878</td>\n",
       "      <td>4</td>\n",
       "      <td>2005-12-26</td>\n",
       "    </tr>\n",
       "    <tr>\n",
       "      <th>4</th>\n",
       "      <td>1</td>\n",
       "      <td>823519</td>\n",
       "      <td>3</td>\n",
       "      <td>2004-05-03</td>\n",
       "    </tr>\n",
       "    <tr>\n",
       "      <th>...</th>\n",
       "      <td>...</td>\n",
       "      <td>...</td>\n",
       "      <td>...</td>\n",
       "      <td>...</td>\n",
       "    </tr>\n",
       "    <tr>\n",
       "      <th>9998053</th>\n",
       "      <td>11152</td>\n",
       "      <td>1389634</td>\n",
       "      <td>3</td>\n",
       "      <td>2004-04-30</td>\n",
       "    </tr>\n",
       "    <tr>\n",
       "      <th>9998054</th>\n",
       "      <td>11152</td>\n",
       "      <td>2033589</td>\n",
       "      <td>3</td>\n",
       "      <td>2004-04-21</td>\n",
       "    </tr>\n",
       "    <tr>\n",
       "      <th>9998055</th>\n",
       "      <td>11152</td>\n",
       "      <td>1041125</td>\n",
       "      <td>5</td>\n",
       "      <td>2004-04-20</td>\n",
       "    </tr>\n",
       "    <tr>\n",
       "      <th>9998056</th>\n",
       "      <td>11152</td>\n",
       "      <td>729393</td>\n",
       "      <td>4</td>\n",
       "      <td>2004-03-24</td>\n",
       "    </tr>\n",
       "    <tr>\n",
       "      <th>9998057</th>\n",
       "      <td>11152</td>\n",
       "      <td>463421</td>\n",
       "      <td>5</td>\n",
       "      <td>2004-07-08</td>\n",
       "    </tr>\n",
       "  </tbody>\n",
       "</table>\n",
       "<p>19996096 rows × 4 columns</p>\n",
       "</div>"
      ],
      "text/plain": [
       "         movId   custId  rating        date\n",
       "0            1  1488844       3  2005-09-06\n",
       "1            1   822109       5  2005-05-13\n",
       "2            1   885013       4  2005-10-19\n",
       "3            1    30878       4  2005-12-26\n",
       "4            1   823519       3  2004-05-03\n",
       "...        ...      ...     ...         ...\n",
       "9998053  11152  1389634       3  2004-04-30\n",
       "9998054  11152  2033589       3  2004-04-21\n",
       "9998055  11152  1041125       5  2004-04-20\n",
       "9998056  11152   729393       4  2004-03-24\n",
       "9998057  11152   463421       5  2004-07-08\n",
       "\n",
       "[19996096 rows x 4 columns]"
      ]
     },
     "execution_count": 16,
     "metadata": {},
     "output_type": "execute_result"
    }
   ],
   "source": [
    "df=df1.copy()\n",
    "df.append(df2)\n",
    "df.append(df3)\n",
    "df.append(df4)"
   ]
  },
  {
   "cell_type": "code",
   "execution_count": 17,
   "metadata": {},
   "outputs": [],
   "source": [
    "mov_title=pd.read_csv('movie_titles.csv',header=None,\n",
    "                      names=['movId','year','name'],encoding = \"ISO-8859-1\")"
   ]
  },
  {
   "cell_type": "code",
   "execution_count": 18,
   "metadata": {},
   "outputs": [
    {
     "data": {
      "text/html": [
       "<div>\n",
       "<style scoped>\n",
       "    .dataframe tbody tr th:only-of-type {\n",
       "        vertical-align: middle;\n",
       "    }\n",
       "\n",
       "    .dataframe tbody tr th {\n",
       "        vertical-align: top;\n",
       "    }\n",
       "\n",
       "    .dataframe thead th {\n",
       "        text-align: right;\n",
       "    }\n",
       "</style>\n",
       "<table border=\"1\" class=\"dataframe\">\n",
       "  <thead>\n",
       "    <tr style=\"text-align: right;\">\n",
       "      <th></th>\n",
       "      <th>movId</th>\n",
       "      <th>year</th>\n",
       "      <th>name</th>\n",
       "    </tr>\n",
       "  </thead>\n",
       "  <tbody>\n",
       "    <tr>\n",
       "      <th>0</th>\n",
       "      <td>1</td>\n",
       "      <td>2003.0</td>\n",
       "      <td>Dinosaur Planet</td>\n",
       "    </tr>\n",
       "    <tr>\n",
       "      <th>1</th>\n",
       "      <td>2</td>\n",
       "      <td>2004.0</td>\n",
       "      <td>Isle of Man TT 2004 Review</td>\n",
       "    </tr>\n",
       "    <tr>\n",
       "      <th>2</th>\n",
       "      <td>3</td>\n",
       "      <td>1997.0</td>\n",
       "      <td>Character</td>\n",
       "    </tr>\n",
       "    <tr>\n",
       "      <th>3</th>\n",
       "      <td>4</td>\n",
       "      <td>1994.0</td>\n",
       "      <td>Paula Abdul's Get Up &amp; Dance</td>\n",
       "    </tr>\n",
       "    <tr>\n",
       "      <th>4</th>\n",
       "      <td>5</td>\n",
       "      <td>2004.0</td>\n",
       "      <td>The Rise and Fall of ECW</td>\n",
       "    </tr>\n",
       "  </tbody>\n",
       "</table>\n",
       "</div>"
      ],
      "text/plain": [
       "   movId    year                          name\n",
       "0      1  2003.0               Dinosaur Planet\n",
       "1      2  2004.0    Isle of Man TT 2004 Review\n",
       "2      3  1997.0                     Character\n",
       "3      4  1994.0  Paula Abdul's Get Up & Dance\n",
       "4      5  2004.0      The Rise and Fall of ECW"
      ]
     },
     "execution_count": 18,
     "metadata": {},
     "output_type": "execute_result"
    }
   ],
   "source": [
    "mov_title.head()"
   ]
  },
  {
   "cell_type": "code",
   "execution_count": 19,
   "metadata": {},
   "outputs": [
    {
     "data": {
      "text/plain": [
       "17770"
      ]
     },
     "execution_count": 19,
     "metadata": {},
     "output_type": "execute_result"
    }
   ],
   "source": [
    "mov_title['movId'].nunique()"
   ]
  },
  {
   "cell_type": "code",
   "execution_count": 20,
   "metadata": {},
   "outputs": [],
   "source": [
    "uni_mov1=list(df1['movId'].unique())\n",
    "uni_mov2=list(df2['movId'].unique())\n",
    "uni_mov3=list(df3['movId'].unique())\n",
    "uni_mov4=list(df4['movId'].unique())"
   ]
  },
  {
   "cell_type": "code",
   "execution_count": 21,
   "metadata": {},
   "outputs": [
    {
     "data": {
      "text/plain": [
       "(1962, 1635, 1942, 1942)"
      ]
     },
     "execution_count": 21,
     "metadata": {},
     "output_type": "execute_result"
    }
   ],
   "source": [
    "len(uni_mov1),len(uni_mov2),len(uni_mov3),len(uni_mov3)"
   ]
  },
  {
   "cell_type": "code",
   "execution_count": 22,
   "metadata": {},
   "outputs": [],
   "source": [
    "uni_mov=uni_mov1\n",
    "uni_mov.extend(uni_mov2)\n",
    "uni_mov.extend(uni_mov3)\n",
    "uni_mov.extend(uni_mov4)"
   ]
  },
  {
   "cell_type": "code",
   "execution_count": 23,
   "metadata": {},
   "outputs": [
    {
     "data": {
      "text/plain": [
       "7481"
      ]
     },
     "execution_count": 23,
     "metadata": {},
     "output_type": "execute_result"
    }
   ],
   "source": [
    "len(uni_mov)"
   ]
  },
  {
   "cell_type": "code",
   "execution_count": 25,
   "metadata": {},
   "outputs": [
    {
     "data": {
      "text/plain": [
       "(array([ 442214.,       0.,  974633.,       0.,       0., 2842781.,\n",
       "              0., 3445626.,       0., 2292784.]),\n",
       " array([1. , 1.4, 1.8, 2.2, 2.6, 3. , 3.4, 3.8, 4.2, 4.6, 5. ]),\n",
       " <a list of 10 Patch objects>)"
      ]
     },
     "execution_count": 25,
     "metadata": {},
     "output_type": "execute_result"
    },
    {
     "data": {
      "image/png": "[encoded data removed]",
      "text/plain": [
       "<Figure size 432x288 with 1 Axes>"
      ]
     },
     "metadata": {
      "needs_background": "light"
     },
     "output_type": "display_data"
    }
   ],
   "source": [
    "plt.hist(df.rating)"
   ]
  },
  {
   "cell_type": "code",
   "execution_count": 26,
   "metadata": {},
   "outputs": [
    {
     "data": {
      "text/plain": [
       "movId     0\n",
       "custId    0\n",
       "rating    0\n",
       "date      0\n",
       "dtype: int64"
      ]
     },
     "execution_count": 26,
     "metadata": {},
     "output_type": "execute_result"
    }
   ],
   "source": [
    "df.isnull().sum()  #Checking For Null values"
   ]
  },
  {
   "cell_type": "code",
   "execution_count": 27,
   "metadata": {},
   "outputs": [],
   "source": [
    "read= Reader()  # To parse the file we have to create a Reader object"
   ]
  },
  {
   "cell_type": "code",
   "execution_count": 28,
   "metadata": {},
   "outputs": [],
   "source": [
    "data=Dataset.load_from_df(df[['movId','custId','rating']],read)"
   ]
  },
  {
   "cell_type": "code",
   "execution_count": 29,
   "metadata": {},
   "outputs": [],
   "source": [
    "svd=SVD()  # Creating an SVD class object"
   ]
  },
  {
   "cell_type": "code",
   "execution_count": 30,
   "metadata": {},
   "outputs": [],
   "source": [
    "from surprise.model_selection import train_test_split"
   ]
  },
  {
   "cell_type": "code",
   "execution_count": 33,
   "metadata": {},
   "outputs": [],
   "source": [
    "train,test_s=train_test_split(data,test_size=0.3)  # splitting the data into training and testing."
   ]
  },
  {
   "cell_type": "code",
   "execution_count": 32,
   "metadata": {},
   "outputs": [
    {
     "data": {
      "text/plain": [
       "<surprise.prediction_algorithms.matrix_factorization.SVD at 0x1cc3ed2b1c8>"
      ]
     },
     "execution_count": 32,
     "metadata": {},
     "output_type": "execute_result"
    }
   ],
   "source": [
    "svd.fit(train)  # Training the model on training data"
   ]
  },
  {
   "cell_type": "code",
   "execution_count": 34,
   "metadata": {},
   "outputs": [],
   "source": [
    "preds=svd.test(test_s)"
   ]
  },
  {
   "cell_type": "code",
   "execution_count": 37,
   "metadata": {},
   "outputs": [
    {
     "name": "stdout",
     "output_type": "stream",
     "text": [
      "RMSE: 0.7955\n"
     ]
    },
    {
     "data": {
      "text/plain": [
       "0.7955436071677765"
      ]
     },
     "execution_count": 37,
     "metadata": {},
     "output_type": "execute_result"
    }
   ],
   "source": [
    "from surprise import accuracy\n",
    "accuracy.rmse(preds)            # Evaluating the model's performance using RMSE metric."
   ]
  },
  {
   "cell_type": "code",
   "execution_count": 39,
   "metadata": {},
   "outputs": [],
   "source": [
    "from surprise.model_selection import KFold"
   ]
  },
  {
   "cell_type": "code",
   "execution_count": 41,
   "metadata": {},
   "outputs": [],
   "source": [
    "svd_=SVD()"
   ]
  },
  {
   "cell_type": "code",
   "execution_count": 42,
   "metadata": {},
   "outputs": [
    {
     "name": "stdout",
     "output_type": "stream",
     "text": [
      "RMSE: 0.9250\n",
      "RMSE: 0.9248\n",
      "RMSE: 0.9246\n"
     ]
    }
   ],
   "source": [
    "#Checking Cross-validation results using 3- fold cross validation.\n",
    "kf=KFold(n_splits=3)    \n",
    "for trainset, testset in kf.split(data):\n",
    "\n",
    "    # train and test algorithm.\n",
    "    svd_.fit(trainset)\n",
    "    predictions = svd_.test(testset)\n",
    "\n",
    "    # Compute and print Root Mean Squared Error\n",
    "    accuracy.rmse(predictions, verbose=True)"
   ]
  },
  {
   "cell_type": "code",
   "execution_count": 43,
   "metadata": {},
   "outputs": [
    {
     "data": {
      "text/plain": [
       "<surprise.prediction_algorithms.matrix_factorization.SVD at 0x1cc3ed2b1c8>"
      ]
     },
     "execution_count": 43,
     "metadata": {},
     "output_type": "execute_result"
    }
   ],
   "source": [
    "# as we got good values for the RMSE metric we are going to train on entire data set.\n",
    "trainset = data.build_full_trainset()\n",
    "svd.fit(trainset)"
   ]
  },
  {
   "cell_type": "code",
   "execution_count": 70,
   "metadata": {},
   "outputs": [],
   "source": [
    "mov_titles = mov_title.copy()\n"
   ]
  },
  {
   "cell_type": "code",
   "execution_count": 71,
   "metadata": {},
   "outputs": [],
   "source": [
    "# Predicting movies that can be recommended for a customer with customer ID 822109\n",
    "mov_titles['rating_prd_822109'] = mov_titles['movId'].apply(lambda x: svd.predict(822109, x).est)"
   ]
  },
  {
   "cell_type": "code",
   "execution_count": 72,
   "metadata": {},
   "outputs": [
    {
     "data": {
      "text/html": [
       "<div>\n",
       "<style scoped>\n",
       "    .dataframe tbody tr th:only-of-type {\n",
       "        vertical-align: middle;\n",
       "    }\n",
       "\n",
       "    .dataframe tbody tr th {\n",
       "        vertical-align: top;\n",
       "    }\n",
       "\n",
       "    .dataframe thead th {\n",
       "        text-align: right;\n",
       "    }\n",
       "</style>\n",
       "<table border=\"1\" class=\"dataframe\">\n",
       "  <thead>\n",
       "    <tr style=\"text-align: right;\">\n",
       "      <th></th>\n",
       "      <th>movId</th>\n",
       "      <th>year</th>\n",
       "      <th>name</th>\n",
       "      <th>rating_prd_822109</th>\n",
       "    </tr>\n",
       "  </thead>\n",
       "  <tbody>\n",
       "    <tr>\n",
       "      <th>6735</th>\n",
       "      <td>6736</td>\n",
       "      <td>2005.0</td>\n",
       "      <td>Robots</td>\n",
       "      <td>4.954274</td>\n",
       "    </tr>\n",
       "    <tr>\n",
       "      <th>3997</th>\n",
       "      <td>3998</td>\n",
       "      <td>1988.0</td>\n",
       "      <td>Joseph Campbell and The Power of Myth</td>\n",
       "      <td>4.695395</td>\n",
       "    </tr>\n",
       "    <tr>\n",
       "      <th>133</th>\n",
       "      <td>134</td>\n",
       "      <td>1996.0</td>\n",
       "      <td>Spirit Lost</td>\n",
       "      <td>4.677680</td>\n",
       "    </tr>\n",
       "    <tr>\n",
       "      <th>4678</th>\n",
       "      <td>4679</td>\n",
       "      <td>1965.0</td>\n",
       "      <td>Battle of the Bulge</td>\n",
       "      <td>4.674336</td>\n",
       "    </tr>\n",
       "    <tr>\n",
       "      <th>10900</th>\n",
       "      <td>10901</td>\n",
       "      <td>2004.0</td>\n",
       "      <td>The Keeper of Time</td>\n",
       "      <td>4.657646</td>\n",
       "    </tr>\n",
       "    <tr>\n",
       "      <th>17450</th>\n",
       "      <td>17451</td>\n",
       "      <td>2000.0</td>\n",
       "      <td>Along for the Ride</td>\n",
       "      <td>4.624653</td>\n",
       "    </tr>\n",
       "    <tr>\n",
       "      <th>12630</th>\n",
       "      <td>12631</td>\n",
       "      <td>2002.0</td>\n",
       "      <td>The Ultimate Beginner Series: Rock Guitar Styles</td>\n",
       "      <td>4.604865</td>\n",
       "    </tr>\n",
       "    <tr>\n",
       "      <th>13510</th>\n",
       "      <td>13511</td>\n",
       "      <td>1993.0</td>\n",
       "      <td>Much Ado About Nothing</td>\n",
       "      <td>4.603761</td>\n",
       "    </tr>\n",
       "    <tr>\n",
       "      <th>14059</th>\n",
       "      <td>14060</td>\n",
       "      <td>2004.0</td>\n",
       "      <td>Alexander: Theatrical Cut</td>\n",
       "      <td>4.600869</td>\n",
       "    </tr>\n",
       "    <tr>\n",
       "      <th>8814</th>\n",
       "      <td>8815</td>\n",
       "      <td>1992.0</td>\n",
       "      <td>Chaplin: The Movie</td>\n",
       "      <td>4.596318</td>\n",
       "    </tr>\n",
       "  </tbody>\n",
       "</table>\n",
       "</div>"
      ],
      "text/plain": [
       "       movId    year                                              name  \\\n",
       "6735    6736  2005.0                                            Robots   \n",
       "3997    3998  1988.0             Joseph Campbell and The Power of Myth   \n",
       "133      134  1996.0                                       Spirit Lost   \n",
       "4678    4679  1965.0                               Battle of the Bulge   \n",
       "10900  10901  2004.0                                The Keeper of Time   \n",
       "17450  17451  2000.0                                Along for the Ride   \n",
       "12630  12631  2002.0  The Ultimate Beginner Series: Rock Guitar Styles   \n",
       "13510  13511  1993.0                            Much Ado About Nothing   \n",
       "14059  14060  2004.0                         Alexander: Theatrical Cut   \n",
       "8814    8815  1992.0                                Chaplin: The Movie   \n",
       "\n",
       "       rating_prd_822109  \n",
       "6735            4.954274  \n",
       "3997            4.695395  \n",
       "133             4.677680  \n",
       "4678            4.674336  \n",
       "10900           4.657646  \n",
       "17450           4.624653  \n",
       "12630           4.604865  \n",
       "13510           4.603761  \n",
       "14059           4.600869  \n",
       "8814            4.596318  "
      ]
     },
     "execution_count": 72,
     "metadata": {},
     "output_type": "execute_result"
    }
   ],
   "source": [
    "# Listing out the top 10 recommendations for this customer.\n",
    "mov_titles = mov_titles.sort_values(by=['rating_prd_822109'], ascending=False)\n",
    "mov_titles.head(10)"
   ]
  },
  {
   "cell_type": "code",
   "execution_count": 73,
   "metadata": {},
   "outputs": [
    {
     "data": {
      "text/html": [
       "<div>\n",
       "<style scoped>\n",
       "    .dataframe tbody tr th:only-of-type {\n",
       "        vertical-align: middle;\n",
       "    }\n",
       "\n",
       "    .dataframe tbody tr th {\n",
       "        vertical-align: top;\n",
       "    }\n",
       "\n",
       "    .dataframe thead th {\n",
       "        text-align: right;\n",
       "    }\n",
       "</style>\n",
       "<table border=\"1\" class=\"dataframe\">\n",
       "  <thead>\n",
       "    <tr style=\"text-align: right;\">\n",
       "      <th></th>\n",
       "      <th>movId</th>\n",
       "      <th>custId</th>\n",
       "      <th>rating</th>\n",
       "      <th>date</th>\n",
       "    </tr>\n",
       "  </thead>\n",
       "  <tbody>\n",
       "    <tr>\n",
       "      <th>1</th>\n",
       "      <td>1</td>\n",
       "      <td>822109</td>\n",
       "      <td>5</td>\n",
       "      <td>2005-05-13</td>\n",
       "    </tr>\n",
       "    <tr>\n",
       "      <th>3014052</th>\n",
       "      <td>571</td>\n",
       "      <td>822109</td>\n",
       "      <td>5</td>\n",
       "      <td>2005-04-25</td>\n",
       "    </tr>\n",
       "    <tr>\n",
       "      <th>3216157</th>\n",
       "      <td>607</td>\n",
       "      <td>822109</td>\n",
       "      <td>5</td>\n",
       "      <td>2005-04-07</td>\n",
       "    </tr>\n",
       "    <tr>\n",
       "      <th>4855982</th>\n",
       "      <td>985</td>\n",
       "      <td>822109</td>\n",
       "      <td>5</td>\n",
       "      <td>2005-04-25</td>\n",
       "    </tr>\n",
       "    <tr>\n",
       "      <th>5645341</th>\n",
       "      <td>1144</td>\n",
       "      <td>822109</td>\n",
       "      <td>5</td>\n",
       "      <td>2005-05-21</td>\n",
       "    </tr>\n",
       "    <tr>\n",
       "      <th>5725461</th>\n",
       "      <td>1145</td>\n",
       "      <td>822109</td>\n",
       "      <td>3</td>\n",
       "      <td>2005-04-07</td>\n",
       "    </tr>\n",
       "    <tr>\n",
       "      <th>6108601</th>\n",
       "      <td>1202</td>\n",
       "      <td>822109</td>\n",
       "      <td>3</td>\n",
       "      <td>2005-04-07</td>\n",
       "    </tr>\n",
       "    <tr>\n",
       "      <th>6204109</th>\n",
       "      <td>1220</td>\n",
       "      <td>822109</td>\n",
       "      <td>5</td>\n",
       "      <td>2005-04-25</td>\n",
       "    </tr>\n",
       "    <tr>\n",
       "      <th>6631370</th>\n",
       "      <td>1307</td>\n",
       "      <td>822109</td>\n",
       "      <td>3</td>\n",
       "      <td>2005-04-25</td>\n",
       "    </tr>\n",
       "    <tr>\n",
       "      <th>6971192</th>\n",
       "      <td>1406</td>\n",
       "      <td>822109</td>\n",
       "      <td>3</td>\n",
       "      <td>2005-04-07</td>\n",
       "    </tr>\n",
       "    <tr>\n",
       "      <th>7600724</th>\n",
       "      <td>1542</td>\n",
       "      <td>822109</td>\n",
       "      <td>3</td>\n",
       "      <td>2005-04-07</td>\n",
       "    </tr>\n",
       "    <tr>\n",
       "      <th>8255768</th>\n",
       "      <td>1650</td>\n",
       "      <td>822109</td>\n",
       "      <td>3</td>\n",
       "      <td>2005-05-21</td>\n",
       "    </tr>\n",
       "    <tr>\n",
       "      <th>8959835</th>\n",
       "      <td>1798</td>\n",
       "      <td>822109</td>\n",
       "      <td>4</td>\n",
       "      <td>2005-04-07</td>\n",
       "    </tr>\n",
       "    <tr>\n",
       "      <th>9166621</th>\n",
       "      <td>1810</td>\n",
       "      <td>822109</td>\n",
       "      <td>4</td>\n",
       "      <td>2005-04-25</td>\n",
       "    </tr>\n",
       "    <tr>\n",
       "      <th>9314402</th>\n",
       "      <td>1843</td>\n",
       "      <td>822109</td>\n",
       "      <td>4</td>\n",
       "      <td>2005-04-25</td>\n",
       "    </tr>\n",
       "    <tr>\n",
       "      <th>9688031</th>\n",
       "      <td>1905</td>\n",
       "      <td>822109</td>\n",
       "      <td>5</td>\n",
       "      <td>2005-05-21</td>\n",
       "    </tr>\n",
       "  </tbody>\n",
       "</table>\n",
       "</div>"
      ],
      "text/plain": [
       "         movId  custId  rating        date\n",
       "1            1  822109       5  2005-05-13\n",
       "3014052    571  822109       5  2005-04-25\n",
       "3216157    607  822109       5  2005-04-07\n",
       "4855982    985  822109       5  2005-04-25\n",
       "5645341   1144  822109       5  2005-05-21\n",
       "5725461   1145  822109       3  2005-04-07\n",
       "6108601   1202  822109       3  2005-04-07\n",
       "6204109   1220  822109       5  2005-04-25\n",
       "6631370   1307  822109       3  2005-04-25\n",
       "6971192   1406  822109       3  2005-04-07\n",
       "7600724   1542  822109       3  2005-04-07\n",
       "8255768   1650  822109       3  2005-05-21\n",
       "8959835   1798  822109       4  2005-04-07\n",
       "9166621   1810  822109       4  2005-04-25\n",
       "9314402   1843  822109       4  2005-04-25\n",
       "9688031   1905  822109       5  2005-05-21"
      ]
     },
     "execution_count": 73,
     "metadata": {},
     "output_type": "execute_result"
    }
   ],
   "source": [
    "df[df['custId']==822109]"
   ]
  },
  {
   "cell_type": "code",
   "execution_count": 74,
   "metadata": {},
   "outputs": [
    {
     "data": {
      "text/plain": [
       "Prediction(uid=1905, iid=822109, r_ui=5, est=4.546096129439273, details={'was_impossible': False})"
      ]
     },
     "execution_count": 74,
     "metadata": {},
     "output_type": "execute_result"
    }
   ],
   "source": [
    "#Checking the predicted rating for the movie with iD 1905 by customer with ID 822109.\n",
    "svd.predict(1905,822109,5)"
   ]
  },
  {
   "cell_type": "code",
   "execution_count": 75,
   "metadata": {},
   "outputs": [
    {
     "data": {
      "text/plain": [
       "Prediction(uid=1605, iid=822109, r_ui=3, est=3.023424195441081, details={'was_impossible': False})"
      ]
     },
     "execution_count": 75,
     "metadata": {},
     "output_type": "execute_result"
    }
   ],
   "source": [
    "svd.predict(1605,822109,3)"
   ]
  },
  {
   "cell_type": "markdown",
   "metadata": {},
   "source": [
    "So, here in this notebook I have developed a simple recommendation system for movies using collaborative filtering technique."
   ]
  },
  {
   "cell_type": "code",
   "execution_count": null,
   "metadata": {},
   "outputs": [],
   "source": []
  }
 ],
 "metadata": {
  "kernelspec": {
   "display_name": "Python 3",
   "language": "python",
   "name": "python3"
  },
  "language_info": {
   "codemirror_mode": {
    "name": "ipython",
    "version": 3
   },
   "file_extension": ".py",
   "mimetype": "text/x-python",
   "name": "python",
   "nbconvert_exporter": "python",
   "pygments_lexer": "ipython3",
   "version": "3.7.6"
  }
 },
 "nbformat": 4,
 "nbformat_minor": 4
}
